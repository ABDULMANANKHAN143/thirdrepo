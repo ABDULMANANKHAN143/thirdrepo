{
 "cells": [
  {
   "cell_type": "markdown",
   "id": "f12d2c17",
   "metadata": {},
   "source": [
    "#Loops in programing_with Explantion"
   ]
  },
  {
   "cell_type": "markdown",
   "id": "850a099e",
   "metadata": {},
   "source": [
    "##1.For loop"
   ]
  },
  {
   "cell_type": "code",
   "execution_count": null,
   "id": "b1ffb989",
   "metadata": {},
   "outputs": [
    {
     "name": "stdout",
     "output_type": "stream",
     "text": [
      "Hallo\n",
      "Hallo\n",
      "Hallo\n",
      "Hallo\n",
      "Hallo\n"
     ]
    }
   ],
   "source": [
    "# for i in range(5):\n",
    "#     print(\"Hallo\")"
   ]
  },
  {
   "cell_type": "markdown",
   "id": "93631b46",
   "metadata": {},
   "source": [
    "##2.While loop"
   ]
  },
  {
   "cell_type": "code",
   "execution_count": null,
   "id": "5b79644e",
   "metadata": {},
   "outputs": [
    {
     "name": "stdout",
     "output_type": "stream",
     "text": [
      "1\n",
      "2\n",
      "3\n",
      "4\n",
      "5\n"
     ]
    }
   ],
   "source": [
    "# i = 1\n",
    "# while i<=5:\n",
    "#     print(i)\n",
    "#     i +=1"
   ]
  },
  {
   "cell_type": "markdown",
   "id": "026872ab",
   "metadata": {},
   "source": [
    "##3.Nested Loop"
   ]
  },
  {
   "cell_type": "code",
   "execution_count": null,
   "id": "82f121d8",
   "metadata": {},
   "outputs": [
    {
     "name": "stdout",
     "output_type": "stream",
     "text": [
      "1,1\n",
      "1,2\n",
      "1,3\n",
      "2,1\n",
      "2,2\n",
      "2,3\n"
     ]
    }
   ],
   "source": [
    "# for i in range(1,3):\n",
    "#     for j in range(1,4):\n",
    "#         print(f\"{i},{j}\")"
   ]
  }
 ],
 "metadata": {
  "kernelspec": {
   "display_name": "Python 3",
   "language": "python",
   "name": "python3"
  },
  "language_info": {
   "codemirror_mode": {
    "name": "ipython",
    "version": 3
   },
   "file_extension": ".py",
   "mimetype": "text/x-python",
   "name": "python",
   "nbconvert_exporter": "python",
   "pygments_lexer": "ipython3",
   "version": "3.12.7"
  }
 },
 "nbformat": 4,
 "nbformat_minor": 5
}
